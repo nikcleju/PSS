{
  "cells": [
    {
      "cell_type": "markdown",
      "metadata": {},
      "source": [
        "# Efectele depășirilor în filtrarea digitală\n",
        "\n",
        "Laborator 12, PSS"
      ],
      "id": "76e48bec-91b0-4d7e-ae01-31635967e179"
    },
    {
      "cell_type": "raw",
      "metadata": {
        "raw_mimetype": "tex"
      },
      "source": [
        "\\newcommand*{\\underuparrow}[1]{\\ensuremath{\\underset{\\uparrow}{#1}}}"
      ],
      "id": "6a0ae7d4-8995-4891-a233-f52c9d8147c7"
    },
    {
      "cell_type": "markdown",
      "metadata": {},
      "source": [
        "## 1 Obiectiv\n",
        "\n",
        "Studiul efectelor produse de depășirile de format în cadrul\n",
        "implementărilor în virgulă fixă ale unui filtru digital.\n",
        "\n",
        "## 2 Noțiuni teoretice\n",
        "\n",
        "## 3 Exerciții teoretice\n",
        "\n",
        "1.  Se consideră sistemul\n",
        "    $$H(z) = \\frac{1-\\frac{1}{2}z^{-1}}{\\left(1 - \\frac{1}{4}z^{-1}\\right)\\left(1 + \\frac{1}{4}z^{-1}\\right)}$$\n",
        "\n",
        "    1.  Să se deseneze realizarea în una din formele serie\n",
        "    2.  Considerăm o implementare în formatul virgulă fixă, cu $b$ biți\n",
        "        pentru partea fracționară. Fiecare produs se cuantizează prin\n",
        "        rotunjire la acest format. Determinați dispersia zgomotului de\n",
        "        rotunjire datorat multiplicărilor la ieșirea implementării de la\n",
        "        punctul a.\n",
        "\n",
        "## 4 Exerciții practice\n",
        "\n",
        "1.  Utilizați utilitarul `fdatool` pentru a proiecta un filtru trece-jos\n",
        "    IIR de ordin 4, de tip Butterworth, cu frecvența de tăiere de 1.5kHz\n",
        "    la o frecvență de eșantionare de 44.1kHz.\n",
        "\n",
        "    Convertiți filtrul la forma directă II și exportați-l în Simulink\n",
        "    (bifați *Build model using basic elements*).\n",
        "\n",
        "2.  În modelul Simulink, realizați două copii ale filtrului\n",
        "    (Copy/Paste). La ambele filtre se va pune ca intrare un semnal audio\n",
        "    (de ex. *Kalimba.mp3* sau *mtlb*). La al doilea filtru, semnalul de\n",
        "    intrare se va converti la formatul virgulă fixă 1S6Î9F.\n",
        "\n",
        "    1.  Obțineți și afișați diferența dintre cele două ieșiri;\n",
        "    2.  Exportați semnalul diferență în Workspace-ul Matlab și calculați\n",
        "        media și varianța sa.\n",
        "\n",
        "3.  Realizați o nouă copie a celui de-al doilea filtru, la care debifați\n",
        "    la blocurile *Sum* si *Gain* opțiunea *Saturate on integer\n",
        "    overflow*.\n",
        "\n",
        "    1.  Care este efectul acesteia? Calculați și afișați diferența față\n",
        "        de ieșirea primului filtru.\n",
        "    2.  Care dintre filtrele 2 și 3 produce erori mai mici?\n",
        "\n",
        "4.  Utilizați funcția `normescal` pentru a calcula diferite norme de\n",
        "    scalare pentru filtrul dat. Scalați semnalul de intrare cu una\n",
        "    dintre acestea, și rescalați ieșirea. Care este efectul?\n",
        "\n",
        "## 5 Întrebări finale\n",
        "\n",
        "1.  TBD"
      ],
      "id": "47f99276-74c2-4517-a2a7-ee9b9488b0d8"
    }
  ],
  "nbformat": 4,
  "nbformat_minor": 5,
  "metadata": {
    "kernelspec": {
      "name": "python3",
      "display_name": "Python 3 (ipykernel)",
      "language": "python"
    }
  }
}