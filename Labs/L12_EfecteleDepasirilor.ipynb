{
  "cells": [
    {
      "cell_type": "markdown",
      "metadata": {},
      "source": [
        "# Efectele depășirilor în filtrarea digitală\n",
        "\n",
        "Laborator 12, PSS"
      ],
      "id": "b8999b97-e97b-495b-8ac2-fc463420a24b"
    },
    {
      "cell_type": "raw",
      "metadata": {
        "raw_mimetype": "tex"
      },
      "source": [
        "\\newcommand*{\\underuparrow}[1]{\\ensuremath{\\underset{\\uparrow}{#1}}}"
      ],
      "id": "1d3c5b76-703d-4cf3-824c-fde567732e9e"
    },
    {
      "cell_type": "markdown",
      "metadata": {},
      "source": [
        "## 1 Obiectiv\n",
        "\n",
        "Studiul efectelor produse de depășirile de format în cadrul\n",
        "implementărilor în virgulă fixă ale unui filtru digital.\n",
        "\n",
        "## 2 Noțiuni teoretice\n",
        "\n",
        "## 3 Exerciții teoretice\n",
        "\n",
        "1.  Se consideră sistemul\n",
        "    $$H(z) = \\frac{1-\\frac{1}{2}z^{-1}}{\\left(1 - \\frac{1}{4}z^{-1}\\right)\\left(1 + \\frac{1}{4}z^{-1}\\right)}$$\n",
        "\n",
        "    1.  Să se deseneze realizarea în una din formele serie\n",
        "    2.  Considerăm o implementare în formatul virgulă fixă, cu $b$ biți\n",
        "        pentru partea fracționară. Fiecare produs se cuantizează prin\n",
        "        rotunjire la acest format. Determinați dispersia zgomotului de\n",
        "        rotunjire datorat multiplicărilor la ieșirea implementării de la\n",
        "        punctul a.\n",
        "\n",
        "## 4 Exerciții practice\n",
        "\n",
        "1.  Utilizați utilitarul `fdatool` pentru a proiecta un filtru trece-jos\n",
        "    IIR de ordin 4, de tip Butterworth, cu frecvența de tăiere de 1.5kHz\n",
        "    la o frecvență de eșantionare de 44.1kHz.\n",
        "\n",
        "    1.  Exportați filtrul în Simulink în forma cu secțiuni de ordinul 2\n",
        "        (“Export to Simulink model”, bifați *Build model using basic\n",
        "        elements*).\n",
        "    2.  Convertiți filtrul la forma directă II și exportați-l din nou în\n",
        "        Simulink (bifați *Build model using basic elements*).\n",
        "\n",
        "2.  În modelul Simulink, realizați două copii ale filtrului (Copy/Paste)\n",
        "    în forma directă 2.\n",
        "\n",
        "    La ambele filtre se va pune ca intrare un semnal audio (de ex.\n",
        "    *Kalimba.mp3*). La blocul “From Multimedia File”, setați parametrul\n",
        "    “Number of samples per audio channel” (1024) la **1**.\n",
        "\n",
        "    Afișați tipul de date al semnalelor din schemă: clic-dreapta în zona\n",
        "    albă-\\> “Other Displays” -\\> “Signal and Ports” -\\> “Port Data\n",
        "    Types”\n",
        "\n",
        "    1.  La al doilea filtru, convertiți semnalul de intrare la formatul\n",
        "        virgulă fixă 1S6Î9F, folosind un bloc de tip “Data Type\n",
        "        Conversion”;\n",
        "\n",
        "    2.  Obțineți și afișați diferența dintre cele două ieșiri;\n",
        "\n",
        "    3.  Creșteți numărul de biți de la partea întreagă, pentru a obține\n",
        "        un semnal de ieșire asemănător celui original;\n",
        "\n",
        "    4.  Exportați semnalul diferență dintre cele doup ieșiri în\n",
        "        Workspace-ul Matlab și calculați media și varianța sa.\n",
        "\n",
        "        Folosiți un bloc “To Workspace”, cu setările:\n",
        "\n",
        "        -   Save format: Array\n",
        "        -   2D în loc de 3D\n",
        "\n",
        "3.  Repetați exercițiul 2 pentru filtrele implementate cu secțiuni de\n",
        "    ordinul 2.\n",
        "\n",
        "4.  Reluați exercițiul 2, revenind la formatul virgulă fixă 1S6Î9F.\n",
        "\n",
        "    La cel de-al doilea filtru, debifați la blocurile *Sum* si *Gain*\n",
        "    opțiunea *Saturate on integer overflow*.\n",
        "\n",
        "    1.  Care este efectul acesteia? Calculați și afișați diferența față\n",
        "        de ieșirea primului filtru.\n",
        "    2.  În care caz se obțin erori mai mici? (cu opțiunea bifată sau\n",
        "        nu).\n",
        "\n",
        "5.  Utilizați funcția `normescal` pentru a calcula diferite norme de\n",
        "    scalare pentru filtrul dat. Scalați semnalul de intrare cu una\n",
        "    dintre acestea, și rescalați ieșirea. Care este efectul?\n",
        "\n",
        "## 5 Întrebări finale\n",
        "\n",
        "1.  TBD"
      ],
      "id": "65a44bb2-f3fb-416b-9a55-3204488da624"
    }
  ],
  "nbformat": 4,
  "nbformat_minor": 5,
  "metadata": {
    "kernelspec": {
      "name": "python3",
      "display_name": "Python 3 (ipykernel)",
      "language": "python"
    }
  }
}