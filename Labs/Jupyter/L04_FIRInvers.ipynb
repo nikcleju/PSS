{
 "cells": [
  {
   "cell_type": "markdown",
   "metadata": {},
   "source": [
    "# PSS Lab 04: Filtru FIR invers prin metoda celor mai mici pătrate\n",
    "\n",
    "## Utilizare\n",
    "\n",
    "Acest fișier se poate rule *live* in browser. Acest fișier este de tip Jupyter Notebook și utilizează un kernel Octave.\n",
    "\n",
    "Utilizare:\n",
    "  - `Shift+Enter` într-o celulă = Execută și avansează la celula următoare\n",
    "  - `Ctrl+Enter` într-o celulă = Execută și rămâi la celula curentă"
   ]
  },
  {
   "cell_type": "code",
   "execution_count": null,
   "metadata": {
    "collapsed": false,
    "jupyter": {
     "outputs_hidden": false
    }
   },
   "outputs": [],
   "source": [
    "pkg load signal  % Pentru Octave, trebuie rulată o data această linie la începutul programului, pentru a încărca unele funcții necesare"
   ]
  },
  {
   "cell_type": "markdown",
   "metadata": {},
   "source": [
    "## Considerații teoretice\n",
    "\n",
    "### Proiectarea filtrului FIR invers prin metoda celor mai mici pătrate\n",
    "\n",
    "Coeficienții $\\{b_k\\}$ se calculează din următorul sistem de ecuații (similar cu cel de la metoda Prony):\n",
    "\n",
    "$$\n",
    "\\begin{bmatrix}\n",
    "r_{hh}[0] & r_{hh}[-1] & \\dots & r_{hh}[-(N-1)] \\\\\n",
    "r_{hh}[1] & r_{hh}[0] & \\dots & r_{hh}[-(N-2)] \\\\\n",
    "\\vdots & \\dots & \\dots & \\vdots \\\\ \n",
    "r_{hh}[N-1] & r_{hh}[N-2] & \\dots & r_{hh}[0] \\\\\n",
    "\\end{bmatrix}\n",
    "\\begin{bmatrix} \n",
    "b_1 \\\\ \n",
    "b_2 \\\\ \n",
    "\\vdots \\\\ \n",
    "b_N \\\\ \n",
    "\\end{bmatrix}\n",
    "= \n",
    "\\begin{bmatrix} \n",
    "- h_{hh}[0] \\\\ \n",
    "- r_{hh}[2,0] \\\\ \n",
    "\\vdots \\\\ \n",
    "- r_{hh}[N,0] \\\\ \n",
    "\\end{bmatrix}$$\n",
    "\n",
    "Coeficientul $a_0$ de la numitor este:\n"
   ]
  },
  {
   "cell_type": "markdown",
   "metadata": {},
   "source": [
    "## Aplicație: egalizare de canal (channel equalization)\n",
    "\n",
    "\n"
   ]
  },
  {
   "cell_type": "markdown",
   "metadata": {},
   "source": [
    "## Exercițiu / Exemplu la tablă\n",
    "\n",
    "1. Folosiți metoda celor mai mici pătrate pentru a găsi filtrul FIR invers de ordinul 2 al filtrului:\n",
    "   $$H(z) = \\frac{b_0 + b_1 z^{-1} + b_2 z^{-2}}{1 + a_1 z^{-1} + a_2 z^{-2}}$$"
   ]
  },
  {
   "cell_type": "markdown",
   "metadata": {},
   "source": [
    "## Exerciții finale\n",
    "\n",
    "\n",
    "1. Implementați în Matlab o funcție de rezolvare a sistemului de ecuații pentru găsirea filtrului FIR invers:\n",
    "\n",
    "    ```[b] = firinvers(ordin, hd)```\n",
    "\n",
    "   Funcția va primi ca argumente:\n",
    "   \n",
    "    - `ordin`: ordinul filtrului dorit\n",
    "    \n",
    "    - `hd`: un vector cu răspunsul la impuls al filtrului care se doreste a fi inversat\n",
    "\n",
    "   Funcția va returna coeficienții funcției de sistem a filtrului proiectat:\n",
    "   \n",
    "    - `b`: coeficienții de la numărător ai filtrului FIR (= răspunsul la impuls)\n",
    "    \n",
    "\n",
    "2. Egalizare de canal: \n",
    "   1. Utilizați funcția de mai sus pentru a proiecta un filtru FIR invers, de ordinul 2, \n",
    "   $$H(z) = 0.2798 + z^{-1} + 0.2798 z^{-2}$$\n",
    "      2. Afisați impulsul la răspuns al filtrului obținut, folosind `impz()`\n",
    "   3. Aplicați filtrul invers semnalul `y` de mai sus și afisați rezultatul (`xrec`)\n",
    "   4. Calculați eroarea dintre semnalul obținut mai sus, `xrec`, și cel original, `x`, cu formula:\n",
    "   $$E = \\sum_n (x_{rec} - x)^2$$\n",
    "\n",
    "\n",
    "3. Să se încarce un semnal audio în Matlab (`Kalimba.mp3`) și să se repete experimentul.\n",
    "Redați semnalul original, cel filtrat, și cel recuperat la ieșirea audio a sistemului.\n",
    "\n",
    "4. Repetați același experiment asupra liniilor unei imagini"
   ]
  }
 ],
 "metadata": {
  "anaconda-cloud": {},
  "kernelspec": {
   "display_name": "Octave",
   "language": "octave",
   "name": "octave"
  },
  "language_info": {
   "file_extension": ".m",
   "help_links": [
    {
     "text": "GNU Octave",
     "url": "https://www.gnu.org/software/octave/support.html"
    },
    {
     "text": "Octave Kernel",
     "url": "https://github.com/Calysto/octave_kernel"
    },
    {
     "text": "MetaKernel Magics",
     "url": "https://metakernel.readthedocs.io/en/latest/source/README.html"
    }
   ],
   "mimetype": "text/x-octave",
   "name": "octave",
   "version": "4.4.1"
  }
 },
 "nbformat": 4,
 "nbformat_minor": 4
}
