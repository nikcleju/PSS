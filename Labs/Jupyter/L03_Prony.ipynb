{
 "cells": [
  {
   "cell_type": "markdown",
   "metadata": {},
   "source": [
    "# PSS Lab 03: Proiectarea filtrelor IIR prin metoda Prony\n",
    "\n",
    "## Utilizare\n",
    "\n",
    "Acest fișier se poate rule *live* in browser. Acest fișier este de tip Jupyter Notebook și utilizează un kernel Octave.\n",
    "\n",
    "Utilizare:\n",
    "  - `Shift+Enter` într-o celulă = Execută și avansează la celula următoare\n",
    "  - `Ctrl+Enter` într-o celulă = Execută și rămâi la celula curentă"
   ]
  },
  {
   "cell_type": "markdown",
   "metadata": {},
   "source": [
    "## Considerații practice\n",
    "\n",
    "### Funcția de autocorelație\n",
    "\n",
    "Pentru un semnal oarecare $x[n]$, funcția de autocorelație se definește ca:\n",
    "$$r_{xx}[k] = \\sum_{n=-\\infty}^{\\infty} x[n] x[n-k]$$\n",
    "\n",
    "În Matlab, pentru un vector `x` de lungime `L` (elementele mergând de la `x[1]` la `x[L]`), funcția de autocorelație se calculează cu funcția  `xcorr()`, ca în  exemplul următor:"
   ]
  },
  {
   "cell_type": "code",
   "execution_count": 2,
   "metadata": {
    "collapsed": false,
    "jupyter": {
     "outputs_hidden": false
    }
   },
   "outputs": [],
   "source": [
    "pkg load signal  % Pentru Octave, trebuie rulată o data această linie la începutul programului, pentru a încărca unele funcții necesare"
   ]
  },
  {
   "cell_type": "code",
   "execution_count": 3,
   "metadata": {
    "collapsed": false,
    "jupyter": {
     "outputs_hidden": false
    }
   },
   "outputs": [
    {
     "name": "stdout",
     "output_type": "stream",
     "text": [
      "rxx =\n",
      "\n",
      "    4.0000   11.0000   20.0000   30.0000   20.0000   11.0000    4.0000\n",
      "\n"
     ]
    }
   ],
   "source": [
    "x = [1,2,3,4];\n",
    "rxx = xcorr(x)   % Calculează autocorelația lui x"
   ]
  },
  {
   "cell_type": "markdown",
   "metadata": {},
   "source": [
    "Sunt 2*L-1 valori în total (L = lungimea lui `x`), începând de la $r_{xx}[-(L-1)]$ și până la $r_{xx}[L-1]$. Așadar, valoarea $r_{xx}[0]$ din teorie se găsește de fapt în mijlocul vectorului rezultat, `rxx(L)`:"
   ]
  },
  {
   "cell_type": "code",
   "execution_count": null,
   "metadata": {},
   "outputs": [],
   "source": [
    "L = length(x);\n",
    "rxx(L)     % Valoarea r_xx[0] \n",
    "rxx(L+1)   % Valoarea r_xx[1] \n",
    "rxx(L-3)   % Valoarea r_xx[-3] "
   ]
  },
  {
   "cell_type": "markdown",
   "metadata": {},
   "source": [
    "### **Exercițiu**: afișare autocorelație\n",
    "\n",
    "**Exercițiu**: Calculați și afișați funcția de autocorelație pentru vectorul constant $\\{3, 3, 3, 3, 3, 3, 3\\}$ (cu funcțiile `xcorr()` și `stem()`).\n",
    "Indicați apoi care sunt valorile lui $r_{xx}[0]$ și $r_{xx}[2]$"
   ]
  },
  {
   "cell_type": "code",
   "execution_count": null,
   "metadata": {
    "collapsed": false,
    "jupyter": {
     "outputs_hidden": false
    }
   },
   "outputs": [],
   "source": [
    "% TODO: scrieți codul aici\n"
   ]
  },
  {
   "cell_type": "markdown",
   "metadata": {},
   "source": [
    "Reprezentarea grafică are forma unui triunghi."
   ]
  },
  {
   "cell_type": "markdown",
   "metadata": {},
   "source": [
    "## Autocorelația parțială pentru metoda Prony\n",
    "\n",
    "Pentru metoda Prony avem nevoie de valorile unei funcții de **autocorelație parțială**, definită ca:\n",
    "$$r_{xx}[k,l] = r_{xx}[k-l] = \\sum_{n=M+1}^\\infty h[n-k] h[n-l] = \\sum_{n=M+1-k}^\\infty h[n] h[n+(k-l)]$$\n",
    "\n",
    "Diferența este că **suma nu începe de la $n=0$**, ci de la o valoare superioară, astfel unele dintre primele elemente din sumă lipsesc.\n",
    "\n",
    "Autocorelația parțială se poate calcula precum cea obișnuită, daca primele $M + 1 - max(k,l)$ elemente ale vectorului sunt transformate în 0.\n",
    "\n",
    "Fie exemplul următor pentru a calcula $r_{xx}[k=1, l=2]$, cu $M=2$:"
   ]
  },
  {
   "cell_type": "code",
   "execution_count": null,
   "metadata": {
    "collapsed": false,
    "jupyter": {
     "outputs_hidden": false
    }
   },
   "outputs": [],
   "source": [
    "M = 2;\n",
    "x = [1,2,3,4];\n",
    "k=1;\n",
    "l=2;\n",
    "\n",
    "x(1 : M+1-max(k,l)) = 0; % Setăm primele valori la 0\n",
    "x                        % Afiseaza x modificat\n",
    "rxx = xcorr(x)           % Calculeaza autocorelatia partiala"
   ]
  },
  {
   "cell_type": "markdown",
   "metadata": {},
   "source": [
    "### **Exercițiu**: funcție pentru calcularea autocorelației parțiale\n",
    "\n",
    "Creați o funcție `r = xcorr_prony(x, k, l, M)` pentru a calcula o valoarea de autocorelația parțială pentru metoda Prony.\n",
    "Funcția trebuie să returneze o singură valoare, $r_{xx}[k-l]$ (**notă:** nu uitați că $r_{xx}[0] = $ `rxx(L)` în Matlab).\n",
    "\n",
    "Testați funcția, verificând valorile urmatoare pentru `x = [1,2,3,2,1,2,3]` și `M=2`:\n",
    "  - $r_{xx}[1,1] = 27$\n",
    "  - $r_{xx}[1,2] = 22$\n",
    "  - $r_{xx}[2,1] = 22$\n",
    "  - $r_{xx}[2,2] = 31$\n",
    "  - $r_{xx}[1,0] = r_{xx}[1] = 16$\n",
    "  - $r_{xx}[2,0] = r_{xx}[2] = 14$\n",
    "\n",
    "\n",
    "Pentru acest fișier *live*, funcția poate fi definită și rulată în celula de mai jos. Dacă scrieți un script Matlab/Octave offline, salvați această funcție ca un fișier `xcorr_prony.m`"
   ]
  },
  {
   "cell_type": "code",
   "execution_count": null,
   "metadata": {},
   "outputs": [],
   "source": [
    "function r = xcorr_prony(x, k, l, M)\n",
    "% Computes restricted autocorrelation for the Prony method\n",
    "% Inputs:\n",
    "%  x = the input vector\n",
    "%  k,l = the element to compute\n",
    "%  M = the degree of the numerator polynomial B(z)\n",
    "% Returns:\n",
    "%  r = rxx[k-l]\n",
    "\n",
    "\n",
    "end\n",
    "\n",
    "% Call it here to find the values, like this:\n",
    "% xcorr_prony( ... , ... , ... , ...)"
   ]
  },
  {
   "cell_type": "markdown",
   "metadata": {
    "jupyter": {
     "outputs_hidden": false
    }
   },
   "source": [
    "## Metoda Prony: sistemele de ecuații\n",
    "\n",
    "În metoda Prony se calculează prima dată coeficienții $\\{a_k\\}$ dintr-un sistem de ecuații ce utilizează valorile autocorelației parțiale:\n",
    "\n",
    "$$\n",
    "\\begin{bmatrix}\n",
    "r_{dd}[1,1] & r_{dd}[1,2] & \\dots & r_{dd}[1,N] \\\\\n",
    "r_{dd}[2,1] & r_{dd}[2,2] & \\dots & r_{dd}[2,N] \\\\\n",
    "\\vdots & \\dots & \\dots & \\vdots \\\\ \n",
    "r_{dd}[N,1] & r_{dd}[N,2] & \\dots & r_{dd}[N,N] \\\\\n",
    "\\end{bmatrix}\n",
    "\\begin{bmatrix} \n",
    "a_1 \\\\ \n",
    "a_2 \\\\ \n",
    "\\vdots \\\\ \n",
    "a_N \\\\ \n",
    "\\end{bmatrix}\n",
    "= \n",
    "\\begin{bmatrix} \n",
    "- r_{dd}[1,0] \\\\ \n",
    "- r_{dd}[2,0] \\\\ \n",
    "\\vdots \\\\ \n",
    "- r_{dd}[N,0] \\\\ \n",
    "\\end{bmatrix}$$\n"
   ]
  },
  {
   "cell_type": "markdown",
   "metadata": {},
   "source": [
    "### **Exercițiu**: rezolvați sistemul pentru $M=2$ și găsiți valorile $\\{a_k\\}$\n",
    "\n",
    "Rezolvați sistemul pentru un răspuns la impuls dorit egal cu $h_d[n] = \\{1,2,3,2,1,2,3\\}$, cu $M=2$ și $N=2$. Utilizați funcția `linsolve()`."
   ]
  },
  {
   "cell_type": "code",
   "execution_count": null,
   "metadata": {
    "collapsed": false,
    "jupyter": {
     "outputs_hidden": false
    }
   },
   "outputs": [],
   "source": [
    "A = ...   % 2x2 matrix\n",
    "B = ...   % 2x1 column vector\n",
    "\n",
    "a = linsolve(A,B)   % solve"
   ]
  },
  {
   "cell_type": "markdown",
   "metadata": {},
   "source": [
    "Coeficienții numărătorului se obțin din aceleași ecuații ca la metoda Pade, înlocuind valorile $\\{a_k\\}$ găsite mai sus.\n",
    "Ecuațiile se pot scrie astfel:\n",
    "$$b_n = h_d[n] + \\sum_{k=1}^N a_k h_d[n-k]$$\n",
    "\n",
    "Expresiile pot fi calculate în Matlab ca mai jos:"
   ]
  },
  {
   "cell_type": "code",
   "execution_count": null,
   "metadata": {},
   "outputs": [],
   "source": [
    "% Date de intrare\n",
    "hd = [1,2,3,2,1,2,3];\n",
    "a  = [0.4, 0.5];   % valorile de la a1 incolo\n",
    "M = 2;             % gradul numaratorului\n",
    "N = 2;             % gradul numitorului\n",
    "\n",
    "% Calcularea coeficientului b2\n",
    "n = 2;    % indica ce element se calculeaza\n",
    "bn = hd(n+1) + sum(a(1:n) .* hd(n:-1:1))"
   ]
  },
  {
   "cell_type": "markdown",
   "metadata": {},
   "source": [
    "### **Exercițiu**: Calculați toți coeficienții {$b_n$}\n",
    "\n",
    "Copiați exercițiul de mai sus și extindeți-l pentru a găsi toți coeficienții $b_n$, salvându-i într-un vector `b`. Utilizați o instrucțiune `for` pentru a calcula toți coeficienții folosind aceeași expresie."
   ]
  },
  {
   "cell_type": "code",
   "execution_count": null,
   "metadata": {},
   "outputs": [],
   "source": [
    "% Date de intrare\n",
    "hd = [1,2,3,2,1,2,3];\n",
    "a  = [0.4, 0.5];   % valorile de la a1 incolo\n",
    "M = 2;             % gradul numaratorului\n",
    "N = 2;             % gradul numitorului\n",
    "\n",
    "% TODO: scrieți aici\n"
   ]
  },
  {
   "cell_type": "markdown",
   "metadata": {},
   "source": [
    "## Exerciții finale\n",
    "\n",
    "\n",
    "1. Implementați în Matlab o funcție de rezolvare a sistemului de ecuații pentru metoda Prony:\n",
    "\n",
    "    ```[b,a] = metoda_prony(ordin, hd)```\n",
    "\n",
    "   Funcția va primi ca argumente:\n",
    "   \n",
    "    - `ordin`: ordinul filtrului dorit\n",
    "    \n",
    "    - `hd`: un vector cu răspunsul la impuls dorit\n",
    "\n",
    "   Funcția va returna coeficienții funcției de sistem a filtrului proiectat:\n",
    "   \n",
    "    - `b`: coeficienții de la numărător\n",
    "    \n",
    "    - `a`: coeficienții de la numitor\n",
    "\n",
    "2. Utilizați funcția de mai sus pentru a proiecta un filtru de ordinul doi cu metoda Prony, \n",
    "pentru a aproxima răspunsul la impuls dorit de mai jos:\n",
    "$$h_d[n] = \\left(\\frac{1}{3}\\right)^n \\cdot \\cos(\\frac{\\pi}{4}n)\\cdot u[n]$$\n",
    "\n",
    "    Puteți utiliza codul de la laboratorul precedent pentru a genera valorile semnalului $h_d[n]$.\n",
    "\n",
    "\n",
    "3. Folosiți metoda Prony pentru a găsi parametrii filtrului de ordin 2 \n",
    "care aproximează următorul filtru de ordin superior (3):\n",
    "$$H(z) = \\frac{0.0736 + 0.0762 z^{-1} + 0.0762 z^{-1} + 0.0736 z^{-3}}\n",
    "{1 - 1.3969 z^{-1} + 0.8778 z^{-1} - 0.1812 z^{-3}}$$\n",
    "\n",
    "    - a. Folosiți funcția `impz()` pentru a genera un răspuns la impuls al filtrului dat (minim 100 de eșantioane);\n",
    "    \n",
    "      **Notă**: funcția `impz()` se folosește pentru a calcula răspunsul la impuls al unui sistem, în felul următor:\n",
    "      ```h = impz(b,a,N); ```\n",
    "      unde `b` și `a` sunt coeficienții funcției de sistem, iar `N` este număul de eșantioane\n",
    "        \n",
    "    - b. Utilizați funcția `metoda_prony()` pentru a proiecta filtrul;\n",
    "    \n",
    "    - c. Reprezentați grafic răspunsul la impuls al filtrului inițial și al celui proiectat, pentru primele 50 de eșantioane.\n",
    "        Există eșantioane identice între cele două?\n",
    "\n",
    "3. Să se încarce un semnal audio în Matlab și să se filtreze cu filtrul proiectat mai sus.\n",
    "Redați semnalul filtrat la ieșirea audio a sistemului."
   ]
  }
 ],
 "metadata": {
  "anaconda-cloud": {},
  "kernelspec": {
   "display_name": "Octave",
   "language": "octave",
   "name": "octave"
  },
  "language_info": {
   "file_extension": ".m",
   "help_links": [
    {
     "text": "GNU Octave",
     "url": "https://www.gnu.org/software/octave/support.html"
    },
    {
     "text": "Octave Kernel",
     "url": "https://github.com/Calysto/octave_kernel"
    },
    {
     "text": "MetaKernel Magics",
     "url": "https://metakernel.readthedocs.io/en/latest/source/README.html"
    }
   ],
   "mimetype": "text/x-octave",
   "name": "octave",
   "version": "4.4.1"
  }
 },
 "nbformat": 4,
 "nbformat_minor": 4
}
