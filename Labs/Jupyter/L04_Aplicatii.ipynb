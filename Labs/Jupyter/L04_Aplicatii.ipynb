{
 "cells": [
  {
   "cell_type": "markdown",
   "metadata": {},
   "source": [
    "# PSS Lab 04: Aplicații\n",
    "\n",
    "## Utilizare\n",
    "\n",
    "Acest fișier se poate rule *live* in browser. Acest fișier este de tip Jupyter Notebook și utilizează un kernel Octave.\n",
    "\n",
    "Utilizare:\n",
    "  - `Shift+Enter` într-o celulă = Execută și avansează la celula următoare\n",
    "  - `Ctrl+Enter` într-o celulă = Execută și rămâi la celula curentă"
   ]
  },
  {
   "cell_type": "markdown",
   "metadata": {},
   "source": [
    "Rulați celula următoare pentru a preveni expirarea paginii online pe Binder:"
   ]
  },
  {
   "cell_type": "code",
   "execution_count": null,
   "metadata": {},
   "outputs": [],
   "source": [
    "%run -i -l python keepalive.py"
   ]
  },
  {
   "cell_type": "code",
   "execution_count": null,
   "metadata": {
    "collapsed": false,
    "jupyter": {
     "outputs_hidden": false
    }
   },
   "outputs": [],
   "source": [
    "pkg load signal  % Pentru Octave, trebuie rulată o data această linie la începutul programului, pentru a încărca unele funcții necesare\n",
    "graphics_toolkit (\"gnuplot\");\n",
    "disp(\"Initialized\")"
   ]
  },
  {
   "cell_type": "markdown",
   "metadata": {},
   "source": [
    "## Aplicații ale metodelor din familia Pade / Prony / Shanks \n",
    "\n",
    "Contextul tuturor acestor metode este următorul:\n",
    "\n",
    "Avem un sistem cu răspuns la impuls cunoscut $h[n]$, posibil foarte lung (IIR-like). Ne interesează să cunoaștem parametrii $a_k$ și $b_k$ ai sistemului care l-a generat, care sunt în număr mult mai mic.\n",
    "\n",
    "Posibile scopuri:\n",
    "- Implementare eficientă: mult mai puține calcule\n",
    "- Clasificarea semnalului: număr mic și fix de parametri, care caracterizează întreg semnalul\n",
    "- Egalizare de canal: anularea efectului nedorit cauzat de $h[n]$"
   ]
  },
  {
   "cell_type": "markdown",
   "metadata": {},
   "source": [
    "### Funcțiile folosite\n",
    "\n",
    "1. Metoda Pade implementată la laborator\n",
    "2. Metoda Prony implementată la laborator\n",
    "3. Metoda Shanks, implementată in Matlab cu numele `prony()`  (nu e disponibilă în varianta *live*, care folosește Octave)\n",
    "\n",
    "Rulați celulele de mai jos pentru a defini funcțiile."
   ]
  },
  {
   "cell_type": "code",
   "execution_count": null,
   "metadata": {},
   "outputs": [],
   "source": [
    "function [b,a] = metodapade(ordin, hd)\n",
    "\n",
    "    B = hd(1 : 2*ordin+1)';\n",
    "\n",
    "    Adreapta = [ eye(ordin+1) ; zeros(ordin,ordin+1) ];\n",
    "\n",
    "    for i=1:ordin\n",
    "        % coloana numarul i\n",
    "        A(:,i) = [ zeros(i,1) ; -hd(1 : 2*ordin+1 - i)'];\n",
    "    end    \n",
    "    A = [A Adreapta];\n",
    "\n",
    "    X = linsolve(A,B);\n",
    "    a = X(1:ordin);\n",
    "    b = X(ordin+1 : 2*ordin+1);\n",
    "\n",
    "end  # end function"
   ]
  },
  {
   "cell_type": "code",
   "execution_count": null,
   "metadata": {},
   "outputs": [],
   "source": [
    "function r = xcorr_prony(x, k, l, M)\n",
    "    % Computes restricted autocorrelation for the Prony method\n",
    "    % Inputs:\n",
    "    %  x = the input vector\n",
    "    %  k,l = the element to compute\n",
    "    %  M = the degree of the numerator polynomial B(z)\n",
    "    % Returns:\n",
    "    %  r = rxx[k,l] = rxx[k-l]\n",
    "\n",
    "    x(1 : M+1-max(k,l)) = 0; % Setăm primele valori la 0\n",
    "    rxx = xcorr(x);          % Calculeaza autocorelatia partiala\n",
    "\n",
    "    % Returneaza doar o singura valoare, rxx[k-l]\n",
    "    L = length(x);\n",
    "    r = rxx(L + k-l);\n",
    "end\n",
    "\n",
    "function [b,a] = metodaprony(ordin, hd)\n",
    "    % Nicolae Cleju\n",
    "\n",
    "    % Se creeaza A\n",
    "    for i=1:ordin\n",
    "        for j=1:ordin\n",
    "            A(i,j) = xcorr_prony(hd, i, j, ordin);\n",
    "        end\n",
    "    end\n",
    "    % Se creeaza B\n",
    "    for i=1:ordin\n",
    "        B(i,1) = -xcorr_prony(hd, i, 0, ordin);\n",
    "    end\n",
    "    % Se rezolva sistemul AX=B\n",
    "    a = linsolve(A,B);\n",
    "\n",
    "    % Calculeaza b\n",
    "    a = a';\n",
    "    for n=0:ordin\n",
    "        % Primele ecuatii de la metode Pade\n",
    "        b(1+n) = hd(n+1) + sum(a(1:n) .* hd(n:-1:1));\n",
    "    end\n",
    "\n",
    "end"
   ]
  },
  {
   "cell_type": "markdown",
   "metadata": {},
   "source": [
    "## Implementare eficientă / identificare de sistem\n",
    "\n",
    "Descărcați și dezarhivați ecourile (reverb-urile) disponibile pe pagina [https://www.voxengo.com/impulses/](https://www.voxengo.com/impulses/)\n",
    "\n",
    "Încărcați unul dintre cele mai scurte (de ex. `Direct Cabinet N2.wav`) și aplicați-l asupra unei melodii."
   ]
  },
  {
   "cell_type": "code",
   "execution_count": null,
   "metadata": {},
   "outputs": [],
   "source": [
    "% Load impulse response, keep a single column, plot it\n",
    "[h, Fs2] = ...\n",
    "h = h(:, 1);\n",
    "plot(h)\n",
    "\n",
    "% Load signal, keep a single column\n",
    "...\n",
    "\n",
    "% Apply reverb = convolution between `x` and `h`\n",
    "y = ..."
   ]
  },
  {
   "cell_type": "markdown",
   "metadata": {},
   "source": [
    "Să afișăm primele 200 eșantioane din `h`:"
   ]
  },
  {
   "cell_type": "code",
   "execution_count": null,
   "metadata": {},
   "outputs": [],
   "source": [
    "plot(h(1:200))"
   ]
  },
  {
   "cell_type": "markdown",
   "metadata": {},
   "source": [
    "### Problema\n",
    "\n",
    "Dacă lungimea lui $h$ este L, câte calcule se fac la aplicarea convoluției?\n",
    "\n",
    "- L înmulțiri pentru fiecare eșantion al iesirii $y$\n",
    "- sunt $F_s$ eșantioane pe secundă în $y$\n",
    "- total = \n",
    "\n",
    "Dacă am reuși să exprimăm $h$ ca un răspuns la impuls al unui sistem IIR de gradul `ord`, \n",
    "am putea implementa sistemul cu ecuația sistemului, care utilizează doar `2*ord +1` multiplicări."
   ]
  },
  {
   "cell_type": "markdown",
   "metadata": {},
   "source": [
    "### Soluție\n",
    "\n",
    "Utilizăm metodele tip Prony pentru a găsi un sistem al cărui $h[n]$ aproximează $h_d$-ul dorit.\n",
    "\n",
    "Aproximați semnalul $h$ prin metoda Pade / Prony, încercând diverse valori ale lui `ord`.\n",
    "\n",
    "- rulați funcția și obțineți coeficienții `b` și `a`\n",
    "- având $b_k$ și $a_k$, calculați răspunsul la impuls obținut $h[n]$ pentru primele 44100 eșantioane cu `impz()`\n",
    "- afișați semnalele $h[n]$ (cel proiectat) și $h_d[n]$ (cel țintă) pe aceeași figură, pentru comparație\n",
    "- calculați eroarea dintre cele două semnale cu formula:\n",
    "  $$E = \\sum_n (h[n] - h_d[n])^2$$"
   ]
  },
  {
   "cell_type": "code",
   "execution_count": null,
   "metadata": {},
   "outputs": [],
   "source": [
    "% TODO: write here"
   ]
  },
  {
   "cell_type": "markdown",
   "metadata": {},
   "source": [
    "O problemă importantă este că primele eșantioanele ale lui $h$ sunt foarte mici și irelevante, iar metodele Pade & Prony \n",
    "aleg o parte din coeficienți pe baza acestora. \n",
    "\n",
    "Se poate încerca eliminarea primelor eșantioane din semnalul $h$.\n",
    "\n"
   ]
  },
  {
   "cell_type": "markdown",
   "metadata": {},
   "source": [
    "## Egalizare de canal\n",
    "\n",
    "Se transmite un semnal $x[n]$ pe un canal care alterează semnalul prin funcția de transfer $H(z)$.\n",
    "\n",
    "Nu cunoaștem $H(z)$, dar putem măsura răspunsul la impuls: trimitem un impuls $\\delta[n]$, măsurăm ieșirea $h[n]$.\n",
    "\n",
    "Vrem să anulăm efectul lui $H(z)$ astfel:\n",
    "- estimăm $H(z)$ prin metodele cunoscute\n",
    "- aplicăm asupra oricărei ieșitri **filtrul invers** $\\frac{1}{H(z)}$\n",
    "\n",
    "\n",
    "### Proiectarea filtrului FIR invers prin metoda celor mai mici pătrate\n",
    "\n",
    "Coeficienții $\\{b_k\\}$ se calculează din următorul sistem de ecuații (similar cu cel de la metoda Prony):\n",
    "\n",
    "$$\n",
    "\\begin{bmatrix}\n",
    "r_{hh}[0] & r_{hh}[-1] & \\dots & r_{hh}[-(N-1)] \\\\\n",
    "r_{hh}[1] & r_{hh}[0] & \\dots & r_{hh}[-(N-2)] \\\\\n",
    "\\vdots & \\dots & \\dots & \\vdots \\\\ \n",
    "r_{hh}[N-1] & r_{hh}[N-2] & \\dots & r_{hh}[0] \\\\\n",
    "\\end{bmatrix}\n",
    "\\begin{bmatrix} \n",
    "b_1 \\\\ \n",
    "b_2 \\\\ \n",
    "\\vdots \\\\ \n",
    "b_N \\\\ \n",
    "\\end{bmatrix}\n",
    "= \n",
    "\\begin{bmatrix} \n",
    "- h_{hh}[0] \\\\ \n",
    "- r_{hh}[2,0] \\\\ \n",
    "\\vdots \\\\ \n",
    "- r_{hh}[N,0] \\\\ \n",
    "\\end{bmatrix}$$\n",
    "\n",
    "Coeficientul $a_0$ de la numitor este:\n"
   ]
  },
  {
   "cell_type": "markdown",
   "metadata": {},
   "source": [
    "## Aplicație: egalizare de canal (channel equalization)\n",
    "\n",
    "\n"
   ]
  },
  {
   "cell_type": "markdown",
   "metadata": {},
   "source": [
    "## Exercițiu / Exemplu la tablă\n",
    "\n",
    "1. Folosiți metoda celor mai mici pătrate pentru a găsi filtrul FIR invers de ordinul 2 al filtrului:\n",
    "   $$H(z) = \\frac{b_0 + b_1 z^{-1} + b_2 z^{-2}}{1 + a_1 z^{-1} + a_2 z^{-2}}$$"
   ]
  },
  {
   "cell_type": "markdown",
   "metadata": {},
   "source": [
    "## Exerciții finale\n",
    "\n",
    "### 1. Exercițiul 1\n",
    "\n",
    "Implementați în Matlab o funcție de rezolvare a sistemului de ecuații pentru găsirea filtrului FIR invers:\n",
    "\n",
    "    ```[b] = firinvers(ordin, h)```\n",
    "\n",
    "   Funcția va primi ca argumente:\n",
    "   \n",
    "    - `ordin`: ordinul filtrului dorit\n",
    "    \n",
    "    - `hd`: un vector cu răspunsul la impuls al filtrului care se doreste a fi inversat\n",
    "\n",
    "   Funcția va returna coeficienții funcției de sistem a filtrului proiectat:\n",
    "   \n",
    "    - `b`: coeficienții de la numărător ai filtrului FIR (= răspunsul la impuls)"
   ]
  },
  {
   "cell_type": "code",
   "execution_count": null,
   "metadata": {},
   "outputs": [],
   "source": [
    "function b = firinvers(ordin, h)\n",
    "% TODO: Write here\n",
    "\n",
    "\n",
    "end"
   ]
  },
  {
   "cell_type": "markdown",
   "metadata": {},
   "source": [
    "### Exercițiul 2: Egalizare de canal\n",
    "\n",
    "Fie un filtru cu $H(z) = 0.2798 + z^{-1} + 0.2798 z^{-2}$. Se dorește anularea efectului acestuia cu un filtru invers.\n",
    "\n",
    "1. Scrieți funcția de transfer inversă, $H_I(z) = \\frac{1}{H(z)}$\n",
    "2. Afișați diagrama poli-zerouri a lui $H_I(z)$ cu funcția `zplane()`. Este acesta un filtrul stabil?"
   ]
  },
  {
   "cell_type": "code",
   "execution_count": null,
   "metadata": {},
   "outputs": [],
   "source": [
    "% TODO: Write here"
   ]
  },
  {
   "cell_type": "markdown",
   "metadata": {},
   "source": [
    "3. Utilizați funcția de mai sus pentru a proiecta un filtru FIR invers, de ordinul 2, \n",
    "\n",
    "Afisați impulsul la răspuns al filtrului obținut, folosind `impz()`\n"
   ]
  },
  {
   "cell_type": "code",
   "execution_count": null,
   "metadata": {},
   "outputs": [],
   "source": [
    "% TODO: Write here"
   ]
  },
  {
   "cell_type": "markdown",
   "metadata": {},
   "source": [
    "4. Aplicați filtrul invers semnalul `y` de mai sus și afisați rezultatul (`xrec`)"
   ]
  },
  {
   "cell_type": "code",
   "execution_count": null,
   "metadata": {},
   "outputs": [],
   "source": [
    "% TODO: Write here"
   ]
  },
  {
   "cell_type": "markdown",
   "metadata": {},
   "source": [
    "\n",
    "5. Calculați eroarea dintre semnalul obținut mai sus, `xrec`, și cel original, `x`, cu formula:\n",
    "   $$E = \\sum_n (x_{rec} - x)^2$$\n"
   ]
  },
  {
   "cell_type": "code",
   "execution_count": null,
   "metadata": {},
   "outputs": [],
   "source": [
    "% TODO: Write here"
   ]
  },
  {
   "cell_type": "markdown",
   "metadata": {},
   "source": [
    "### Exercițiul 3\n",
    "\n",
    "Să se încarce un semnal audio în Matlab (`Kalimba.mp3`) și să se repete experimentul.\n",
    "Redați semnalul original, cel filtrat, și cel recuperat la ieșirea audio a sistemului.\n",
    "\n",
    "### Exercițiul 4\n",
    "\n",
    "Repetați același experiment asupra liniilor unei imagini"
   ]
  }
 ],
 "metadata": {
  "anaconda-cloud": {},
  "kernelspec": {
   "display_name": "Octave",
   "language": "octave",
   "name": "octave"
  },
  "language_info": {
   "file_extension": ".m",
   "help_links": [
    {
     "text": "GNU Octave",
     "url": "https://www.gnu.org/software/octave/support.html"
    },
    {
     "text": "Octave Kernel",
     "url": "https://github.com/Calysto/octave_kernel"
    },
    {
     "text": "MetaKernel Magics",
     "url": "https://metakernel.readthedocs.io/en/latest/source/README.html"
    }
   ],
   "mimetype": "text/x-octave",
   "name": "octave",
   "version": "6.2.0"
  }
 },
 "nbformat": 4,
 "nbformat_minor": 4
}
